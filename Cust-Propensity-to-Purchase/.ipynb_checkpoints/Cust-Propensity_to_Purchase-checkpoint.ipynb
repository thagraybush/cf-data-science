{
 "cells": [
  {
   "cell_type": "markdown",
   "metadata": {},
   "source": [
    "# Customer propensity to purchase dataset\n",
    "\n",
    "### A data set logging shoppers interactions on an online store\n",
    "\n",
    "### Context\n",
    "\n",
    "You get many visitors to your website every day, but you know only a small percentage of them are likely to buy from you, while most will perhaps not even return. Right now you may be spending money to re-market to everyone, but perhaps we could use machine learning to identify the most valuable prospects?\n",
    "\n",
    "### Content\n",
    "\n",
    "This data set represents a day's worth of visit to a fictional website. Each row represents a unique customer, identified by their unique UserID. The columns represent feature of the users visit (such as the device they were using) and things the user did on the website in that day. These features will be different for every website, but in this data a few of the features we consider are:\n",
    "\n",
    "basketadddetail: Did the customer add a product to their shopping basket from the product detail page?\n",
    "sign_in: Did the customer sign in to the website?\n",
    "saw_homepage: Did the customer visit the website's homepage?\n",
    "returning_user: Is this visitor new, or returning?\n",
    "In this data set we also have a feature showing whether the customer placed an order (ordered), which is what we predict on.\n",
    "\n",
    "Train a model based on a shoppers actions on a website to identify the best prospects who did not purchase yet."
   ]
  },
  {
   "cell_type": "code",
   "execution_count": 1,
   "metadata": {},
   "outputs": [],
   "source": [
    "import pandas as pd\n",
    "import numpy as np\n",
    "import os\n",
    "import matplotlib.pylab as plt\n",
    "from sklearn.model_selection  import train_test_split\n",
    "from sklearn.tree import DecisionTreeClassifier\n",
    "from sklearn.metrics import classification_report\n",
    "import sklearn.metrics"
   ]
  },
  {
   "cell_type": "code",
   "execution_count": 4,
   "metadata": {},
   "outputs": [
    {
     "data": {
      "text/html": [
       "<div>\n",
       "<style scoped>\n",
       "    .dataframe tbody tr th:only-of-type {\n",
       "        vertical-align: middle;\n",
       "    }\n",
       "\n",
       "    .dataframe tbody tr th {\n",
       "        vertical-align: top;\n",
       "    }\n",
       "\n",
       "    .dataframe thead th {\n",
       "        text-align: right;\n",
       "    }\n",
       "</style>\n",
       "<table border=\"1\" class=\"dataframe\">\n",
       "  <thead>\n",
       "    <tr style=\"text-align: right;\">\n",
       "      <th></th>\n",
       "      <th>UserID</th>\n",
       "      <th>basket_icon_click</th>\n",
       "      <th>basket_add_list</th>\n",
       "      <th>basket_add_detail</th>\n",
       "      <th>sort_by</th>\n",
       "      <th>image_picker</th>\n",
       "      <th>account_page_click</th>\n",
       "      <th>promo_banner_click</th>\n",
       "      <th>detail_wishlist_add</th>\n",
       "      <th>list_size_dropdown</th>\n",
       "      <th>...</th>\n",
       "      <th>saw_sizecharts</th>\n",
       "      <th>saw_delivery</th>\n",
       "      <th>saw_account_upgrade</th>\n",
       "      <th>saw_homepage</th>\n",
       "      <th>device_mobile</th>\n",
       "      <th>device_computer</th>\n",
       "      <th>device_tablet</th>\n",
       "      <th>returning_user</th>\n",
       "      <th>loc_uk</th>\n",
       "      <th>ordered</th>\n",
       "    </tr>\n",
       "  </thead>\n",
       "  <tbody>\n",
       "    <tr>\n",
       "      <th>0</th>\n",
       "      <td>a720-6b732349-a720-4862-bd21-644732</td>\n",
       "      <td>0</td>\n",
       "      <td>0</td>\n",
       "      <td>0</td>\n",
       "      <td>0</td>\n",
       "      <td>0</td>\n",
       "      <td>0</td>\n",
       "      <td>0</td>\n",
       "      <td>0</td>\n",
       "      <td>0</td>\n",
       "      <td>...</td>\n",
       "      <td>0</td>\n",
       "      <td>0</td>\n",
       "      <td>0</td>\n",
       "      <td>0</td>\n",
       "      <td>1</td>\n",
       "      <td>0</td>\n",
       "      <td>0</td>\n",
       "      <td>0</td>\n",
       "      <td>1</td>\n",
       "      <td>0</td>\n",
       "    </tr>\n",
       "    <tr>\n",
       "      <th>1</th>\n",
       "      <td>a0c0-6b73247c-a0c0-4bd9-8baa-797356</td>\n",
       "      <td>0</td>\n",
       "      <td>0</td>\n",
       "      <td>0</td>\n",
       "      <td>0</td>\n",
       "      <td>0</td>\n",
       "      <td>0</td>\n",
       "      <td>0</td>\n",
       "      <td>0</td>\n",
       "      <td>0</td>\n",
       "      <td>...</td>\n",
       "      <td>0</td>\n",
       "      <td>0</td>\n",
       "      <td>0</td>\n",
       "      <td>0</td>\n",
       "      <td>1</td>\n",
       "      <td>0</td>\n",
       "      <td>0</td>\n",
       "      <td>0</td>\n",
       "      <td>1</td>\n",
       "      <td>0</td>\n",
       "    </tr>\n",
       "    <tr>\n",
       "      <th>2</th>\n",
       "      <td>86a8-6b735c67-86a8-407b-ba24-333055</td>\n",
       "      <td>0</td>\n",
       "      <td>0</td>\n",
       "      <td>0</td>\n",
       "      <td>0</td>\n",
       "      <td>0</td>\n",
       "      <td>0</td>\n",
       "      <td>0</td>\n",
       "      <td>0</td>\n",
       "      <td>0</td>\n",
       "      <td>...</td>\n",
       "      <td>0</td>\n",
       "      <td>0</td>\n",
       "      <td>0</td>\n",
       "      <td>0</td>\n",
       "      <td>1</td>\n",
       "      <td>0</td>\n",
       "      <td>0</td>\n",
       "      <td>1</td>\n",
       "      <td>1</td>\n",
       "      <td>0</td>\n",
       "    </tr>\n",
       "    <tr>\n",
       "      <th>3</th>\n",
       "      <td>6a3d-6b736346-6a3d-4085-934b-396834</td>\n",
       "      <td>0</td>\n",
       "      <td>0</td>\n",
       "      <td>0</td>\n",
       "      <td>0</td>\n",
       "      <td>0</td>\n",
       "      <td>0</td>\n",
       "      <td>0</td>\n",
       "      <td>0</td>\n",
       "      <td>0</td>\n",
       "      <td>...</td>\n",
       "      <td>0</td>\n",
       "      <td>0</td>\n",
       "      <td>0</td>\n",
       "      <td>0</td>\n",
       "      <td>1</td>\n",
       "      <td>0</td>\n",
       "      <td>0</td>\n",
       "      <td>1</td>\n",
       "      <td>1</td>\n",
       "      <td>0</td>\n",
       "    </tr>\n",
       "    <tr>\n",
       "      <th>4</th>\n",
       "      <td>b74a-6b737717-b74a-45c3-8c6a-421140</td>\n",
       "      <td>0</td>\n",
       "      <td>1</td>\n",
       "      <td>0</td>\n",
       "      <td>1</td>\n",
       "      <td>0</td>\n",
       "      <td>0</td>\n",
       "      <td>0</td>\n",
       "      <td>0</td>\n",
       "      <td>1</td>\n",
       "      <td>...</td>\n",
       "      <td>0</td>\n",
       "      <td>0</td>\n",
       "      <td>0</td>\n",
       "      <td>1</td>\n",
       "      <td>0</td>\n",
       "      <td>0</td>\n",
       "      <td>1</td>\n",
       "      <td>0</td>\n",
       "      <td>1</td>\n",
       "      <td>1</td>\n",
       "    </tr>\n",
       "  </tbody>\n",
       "</table>\n",
       "<p>5 rows × 25 columns</p>\n",
       "</div>"
      ],
      "text/plain": [
       "                                UserID  basket_icon_click  basket_add_list  \\\n",
       "0  a720-6b732349-a720-4862-bd21-644732                  0                0   \n",
       "1  a0c0-6b73247c-a0c0-4bd9-8baa-797356                  0                0   \n",
       "2  86a8-6b735c67-86a8-407b-ba24-333055                  0                0   \n",
       "3  6a3d-6b736346-6a3d-4085-934b-396834                  0                0   \n",
       "4  b74a-6b737717-b74a-45c3-8c6a-421140                  0                1   \n",
       "\n",
       "   basket_add_detail  sort_by  image_picker  account_page_click  \\\n",
       "0                  0        0             0                   0   \n",
       "1                  0        0             0                   0   \n",
       "2                  0        0             0                   0   \n",
       "3                  0        0             0                   0   \n",
       "4                  0        1             0                   0   \n",
       "\n",
       "   promo_banner_click  detail_wishlist_add  list_size_dropdown  ...  \\\n",
       "0                   0                    0                   0  ...   \n",
       "1                   0                    0                   0  ...   \n",
       "2                   0                    0                   0  ...   \n",
       "3                   0                    0                   0  ...   \n",
       "4                   0                    0                   1  ...   \n",
       "\n",
       "   saw_sizecharts  saw_delivery  saw_account_upgrade  saw_homepage  \\\n",
       "0               0             0                    0             0   \n",
       "1               0             0                    0             0   \n",
       "2               0             0                    0             0   \n",
       "3               0             0                    0             0   \n",
       "4               0             0                    0             1   \n",
       "\n",
       "   device_mobile  device_computer  device_tablet  returning_user  loc_uk  \\\n",
       "0              1                0              0               0       1   \n",
       "1              1                0              0               0       1   \n",
       "2              1                0              0               1       1   \n",
       "3              1                0              0               1       1   \n",
       "4              0                0              1               0       1   \n",
       "\n",
       "   ordered  \n",
       "0        0  \n",
       "1        0  \n",
       "2        0  \n",
       "3        0  \n",
       "4        1  \n",
       "\n",
       "[5 rows x 25 columns]"
      ]
     },
     "execution_count": 4,
     "metadata": {},
     "output_type": "execute_result"
    }
   ],
   "source": [
    "train = pd.read_csv('./data/training_sample.csv')\n",
    "\n",
    "train.head(5)"
   ]
  },
  {
   "cell_type": "markdown",
   "metadata": {},
   "source": [
    "Here we can see a clear snspshot of the data, we have 1's or 0's in the columns, indicating wheather or not a user interacted with these areas of the website. The last colum shows whether the user ordered or not."
   ]
  },
  {
   "cell_type": "code",
   "execution_count": 5,
   "metadata": {},
   "outputs": [
    {
     "data": {
      "text/plain": [
       "UserID                     object\n",
       "basket_icon_click           int64\n",
       "basket_add_list             int64\n",
       "basket_add_detail           int64\n",
       "sort_by                     int64\n",
       "image_picker                int64\n",
       "account_page_click          int64\n",
       "promo_banner_click          int64\n",
       "detail_wishlist_add         int64\n",
       "list_size_dropdown          int64\n",
       "closed_minibasket_click     int64\n",
       "checked_delivery_detail     int64\n",
       "checked_returns_detail      int64\n",
       "sign_in                     int64\n",
       "saw_checkout                int64\n",
       "saw_sizecharts              int64\n",
       "saw_delivery                int64\n",
       "saw_account_upgrade         int64\n",
       "saw_homepage                int64\n",
       "device_mobile               int64\n",
       "device_computer             int64\n",
       "device_tablet               int64\n",
       "returning_user              int64\n",
       "loc_uk                      int64\n",
       "ordered                     int64\n",
       "dtype: object"
      ]
     },
     "execution_count": 5,
     "metadata": {},
     "output_type": "execute_result"
    }
   ],
   "source": [
    "# Show dtypes of the columns\n",
    "train.dtypes"
   ]
  },
  {
   "cell_type": "code",
   "execution_count": 6,
   "metadata": {},
   "outputs": [
    {
     "name": "stdout",
     "output_type": "stream",
     "text": [
      "       basket_icon_click  basket_add_list  basket_add_detail        sort_by  \\\n",
      "count      455401.000000    455401.000000      455401.000000  455401.000000   \n",
      "mean            0.099150         0.074521           0.112916       0.036849   \n",
      "std             0.298864         0.262617           0.316490       0.188391   \n",
      "min             0.000000         0.000000           0.000000       0.000000   \n",
      "25%             0.000000         0.000000           0.000000       0.000000   \n",
      "50%             0.000000         0.000000           0.000000       0.000000   \n",
      "75%             0.000000         0.000000           0.000000       0.000000   \n",
      "max             1.000000         1.000000           1.000000       1.000000   \n",
      "\n",
      "        image_picker  account_page_click  promo_banner_click  \\\n",
      "count  455401.000000       455401.000000       455401.000000   \n",
      "mean        0.026735            0.003570            0.016208   \n",
      "std         0.161307            0.059647            0.126274   \n",
      "min         0.000000            0.000000            0.000000   \n",
      "25%         0.000000            0.000000            0.000000   \n",
      "50%         0.000000            0.000000            0.000000   \n",
      "75%         0.000000            0.000000            0.000000   \n",
      "max         1.000000            1.000000            1.000000   \n",
      "\n",
      "       detail_wishlist_add  list_size_dropdown  closed_minibasket_click  ...  \\\n",
      "count        455401.000000       455401.000000            455401.000000  ...   \n",
      "mean              0.003511            0.230362                 0.017277  ...   \n",
      "std               0.059151            0.421065                 0.130302  ...   \n",
      "min               0.000000            0.000000                 0.000000  ...   \n",
      "25%               0.000000            0.000000                 0.000000  ...   \n",
      "50%               0.000000            0.000000                 0.000000  ...   \n",
      "75%               0.000000            0.000000                 0.000000  ...   \n",
      "max               1.000000            1.000000                 1.000000  ...   \n",
      "\n",
      "       saw_sizecharts   saw_delivery  saw_account_upgrade   saw_homepage  \\\n",
      "count   455401.000000  455401.000000        455401.000000  455401.000000   \n",
      "mean         0.000389       0.005542             0.001096       0.290024   \n",
      "std          0.019711       0.074241             0.033084       0.453773   \n",
      "min          0.000000       0.000000             0.000000       0.000000   \n",
      "25%          0.000000       0.000000             0.000000       0.000000   \n",
      "50%          0.000000       0.000000             0.000000       0.000000   \n",
      "75%          0.000000       0.000000             0.000000       1.000000   \n",
      "max          1.000000       1.000000             1.000000       1.000000   \n",
      "\n",
      "       device_mobile  device_computer  device_tablet  returning_user  \\\n",
      "count  455401.000000    455401.000000  455401.000000   455401.000000   \n",
      "mean        0.680706         0.194220       0.128364        0.534915   \n",
      "std         0.466204         0.395599       0.334495        0.498780   \n",
      "min         0.000000         0.000000       0.000000        0.000000   \n",
      "25%         0.000000         0.000000       0.000000        0.000000   \n",
      "50%         1.000000         0.000000       0.000000        1.000000   \n",
      "75%         1.000000         0.000000       0.000000        1.000000   \n",
      "max         1.000000         1.000000       1.000000        1.000000   \n",
      "\n",
      "              loc_uk        ordered  \n",
      "count  455401.000000  455401.000000  \n",
      "mean        0.933224       0.041926  \n",
      "std         0.249634       0.200420  \n",
      "min         0.000000       0.000000  \n",
      "25%         1.000000       0.000000  \n",
      "50%         1.000000       0.000000  \n",
      "75%         1.000000       0.000000  \n",
      "max         1.000000       1.000000  \n",
      "\n",
      "[8 rows x 24 columns]\n",
      "<class 'pandas.core.frame.DataFrame'>\n",
      "RangeIndex: 455401 entries, 0 to 455400\n",
      "Data columns (total 25 columns):\n",
      " #   Column                   Non-Null Count   Dtype \n",
      "---  ------                   --------------   ----- \n",
      " 0   UserID                   455401 non-null  object\n",
      " 1   basket_icon_click        455401 non-null  int64 \n",
      " 2   basket_add_list          455401 non-null  int64 \n",
      " 3   basket_add_detail        455401 non-null  int64 \n",
      " 4   sort_by                  455401 non-null  int64 \n",
      " 5   image_picker             455401 non-null  int64 \n",
      " 6   account_page_click       455401 non-null  int64 \n",
      " 7   promo_banner_click       455401 non-null  int64 \n",
      " 8   detail_wishlist_add      455401 non-null  int64 \n",
      " 9   list_size_dropdown       455401 non-null  int64 \n",
      " 10  closed_minibasket_click  455401 non-null  int64 \n",
      " 11  checked_delivery_detail  455401 non-null  int64 \n",
      " 12  checked_returns_detail   455401 non-null  int64 \n",
      " 13  sign_in                  455401 non-null  int64 \n",
      " 14  saw_checkout             455401 non-null  int64 \n",
      " 15  saw_sizecharts           455401 non-null  int64 \n",
      " 16  saw_delivery             455401 non-null  int64 \n",
      " 17  saw_account_upgrade      455401 non-null  int64 \n",
      " 18  saw_homepage             455401 non-null  int64 \n",
      " 19  device_mobile            455401 non-null  int64 \n",
      " 20  device_computer          455401 non-null  int64 \n",
      " 21  device_tablet            455401 non-null  int64 \n",
      " 22  returning_user           455401 non-null  int64 \n",
      " 23  loc_uk                   455401 non-null  int64 \n",
      " 24  ordered                  455401 non-null  int64 \n",
      "dtypes: int64(24), object(1)\n",
      "memory usage: 86.9+ MB\n",
      "None\n"
     ]
    }
   ],
   "source": [
    "# EDA on the train dataset\n",
    "print(train.describe())\n",
    "\n",
    "print(train.info())"
   ]
  },
  {
   "cell_type": "code",
   "execution_count": 7,
   "metadata": {},
   "outputs": [
    {
     "data": {
      "image/png": "[encoded data removed]",
      "text/plain": [
       "<Figure size 1152x1008 with 2 Axes>"
      ]
     },
     "metadata": {
      "needs_background": "light"
     },
     "output_type": "display_data"
    }
   ],
   "source": [
    "# Quite a few fields, so let's start with a heatmap to view correlations\n",
    "import seaborn as sns\n",
    "corr = train.corr()\n",
    "plt.figure(figsize=(16, 14))\n",
    "sns.heatmap(corr, vmax=0.5, center=0,\n",
    "            square=True, linewidths=2, cmap='Blues')\n",
    "plt.savefig(\"heatmap.png\")\n",
    "plt.show()"
   ]
  },
  {
   "cell_type": "code",
   "execution_count": 11,
   "metadata": {},
   "outputs": [
    {
     "name": "stdout",
     "output_type": "stream",
     "text": [
      "['UserID', 'basket_icon_click', 'basket_add_list', 'basket_add_detail', 'sort_by', 'image_picker', 'account_page_click', 'promo_banner_click', 'detail_wishlist_add', 'list_size_dropdown', 'closed_minibasket_click', 'checked_delivery_detail', 'checked_returns_detail', 'sign_in', 'saw_checkout', 'saw_sizecharts', 'saw_delivery', 'saw_account_upgrade', 'saw_homepage', 'device_mobile', 'device_computer', 'device_tablet', 'returning_user', 'loc_uk', 'ordered']\n"
     ]
    }
   ],
   "source": [
    "# Playing with creating array of feature names to input into the visualizations\n",
    "feature_names = list(train.columns.values)\n",
    "print(feature_names)"
   ]
  },
  {
   "cell_type": "markdown",
   "metadata": {},
   "source": [
    "Seems to be some strong correlations for people who cheked out delivery times and added items to their shopping cart. Let's get a closer look at correlations for orders."
   ]
  },
  {
   "cell_type": "code",
   "execution_count": 12,
   "metadata": {},
   "outputs": [
    {
     "data": {
      "text/plain": [
       "basket_icon_click          0.428334\n",
       "basket_add_list            0.287666\n",
       "basket_add_detail          0.414420\n",
       "sort_by                    0.054636\n",
       "image_picker               0.071492\n",
       "account_page_click         0.057279\n",
       "promo_banner_click         0.056533\n",
       "detail_wishlist_add        0.023516\n",
       "list_size_dropdown         0.154867\n",
       "closed_minibasket_click    0.140011\n",
       "checked_delivery_detail    0.798720\n",
       "checked_returns_detail     0.059484\n",
       "sign_in                    0.665556\n",
       "saw_checkout               0.708986\n",
       "saw_sizecharts             0.007548\n",
       "saw_delivery               0.031461\n",
       "saw_account_upgrade        0.025857\n",
       "saw_homepage               0.157778\n",
       "device_mobile             -0.042907\n",
       "device_computer            0.049208\n",
       "device_tablet              0.016939\n",
       "returning_user             0.060295\n",
       "loc_uk                     0.031643\n",
       "ordered                    1.000000\n",
       "Name: ordered, dtype: float64"
      ]
     },
     "execution_count": 12,
     "metadata": {},
     "output_type": "execute_result"
    }
   ],
   "source": [
    "train.corr()['ordered']"
   ]
  },
  {
   "cell_type": "markdown",
   "metadata": {},
   "source": [
    "Looks like our initial insights from the heatmap were insightful, users who checked out the delivery options on a product detail page have an almost 80% correlation to orders. But it looks like there isn't much correlation between users on a mobile and orders."
   ]
  },
  {
   "cell_type": "markdown",
   "metadata": {},
   "source": [
    "### Start Predicting\n",
    "\n",
    "First we build our predictor and targets variables, we're going to drop 'ordered' form our predictors, as it is our target variable. We'll also remove 'UserID', as it has no impact on likelyhood to order."
   ]
  },
  {
   "cell_type": "code",
   "execution_count": 13,
   "metadata": {},
   "outputs": [],
   "source": [
    "# Drop columns with low correlation\n",
    "predictors = train.drop(['ordered','UserID'], axis=1)\n",
    "# predictors = train[['checked_delivery_pdp', 'basket_icon_click', 'sign_in', 'saw_checkout']]\n",
    "targets = train.ordered"
   ]
  },
  {
   "cell_type": "markdown",
   "metadata": {},
   "source": [
    "Let's take a look at our predictor columns to check we've included everything we wanted, and not left in something we shouldn't have."
   ]
  },
  {
   "cell_type": "code",
   "execution_count": 14,
   "metadata": {},
   "outputs": [
    {
     "name": "stdout",
     "output_type": "stream",
     "text": [
      "Index(['basket_icon_click', 'basket_add_list', 'basket_add_detail', 'sort_by',\n",
      "       'image_picker', 'account_page_click', 'promo_banner_click',\n",
      "       'detail_wishlist_add', 'list_size_dropdown', 'closed_minibasket_click',\n",
      "       'checked_delivery_detail', 'checked_returns_detail', 'sign_in',\n",
      "       'saw_checkout', 'saw_sizecharts', 'saw_delivery', 'saw_account_upgrade',\n",
      "       'saw_homepage', 'device_mobile', 'device_computer', 'device_tablet',\n",
      "       'returning_user', 'loc_uk'],\n",
      "      dtype='object')\n"
     ]
    }
   ],
   "source": [
    "print(predictors.columns)"
   ]
  },
  {
   "cell_type": "markdown",
   "metadata": {},
   "source": [
    "Split our data into train and test, with a test size of 30%"
   ]
  },
  {
   "cell_type": "code",
   "execution_count": 15,
   "metadata": {},
   "outputs": [
    {
     "name": "stdout",
     "output_type": "stream",
     "text": [
      "Predictor - Training :  (318780, 23) Predictor - Testing :  (136621, 23)\n"
     ]
    }
   ],
   "source": [
    "X_train, X_test, y_train, y_test  =   train_test_split(predictors, targets, test_size=.3)\n",
    "\n",
    "print( \"Predictor - Training : \", X_train.shape, \"Predictor - Testing : \", X_test.shape )"
   ]
  },
  {
   "cell_type": "code",
   "execution_count": null,
   "metadata": {},
   "outputs": [],
   "source": []
  },
  {
   "cell_type": "code",
   "execution_count": null,
   "metadata": {},
   "outputs": [],
   "source": []
  },
  {
   "cell_type": "code",
   "execution_count": null,
   "metadata": {},
   "outputs": [],
   "source": []
  },
  {
   "cell_type": "code",
   "execution_count": null,
   "metadata": {},
   "outputs": [],
   "source": []
  },
  {
   "cell_type": "code",
   "execution_count": null,
   "metadata": {},
   "outputs": [],
   "source": []
  },
  {
   "cell_type": "code",
   "execution_count": null,
   "metadata": {},
   "outputs": [],
   "source": []
  },
  {
   "cell_type": "code",
   "execution_count": null,
   "metadata": {},
   "outputs": [],
   "source": []
  },
  {
   "cell_type": "code",
   "execution_count": null,
   "metadata": {},
   "outputs": [],
   "source": []
  },
  {
   "cell_type": "code",
   "execution_count": null,
   "metadata": {},
   "outputs": [],
   "source": []
  },
  {
   "cell_type": "code",
   "execution_count": null,
   "metadata": {},
   "outputs": [],
   "source": []
  },
  {
   "cell_type": "code",
   "execution_count": null,
   "metadata": {},
   "outputs": [],
   "source": []
  },
  {
   "cell_type": "code",
   "execution_count": null,
   "metadata": {},
   "outputs": [],
   "source": []
  }
 ],
 "metadata": {
  "kernelspec": {
   "display_name": "Python 3",
   "language": "python",
   "name": "python3"
  },
  "language_info": {
   "codemirror_mode": {
    "name": "ipython",
    "version": 3
   },
   "file_extension": ".py",
   "mimetype": "text/x-python",
   "name": "python",
   "nbconvert_exporter": "python",
   "pygments_lexer": "ipython3",
   "version": "3.7.3"
  }
 },
 "nbformat": 4,
 "nbformat_minor": 4
}
